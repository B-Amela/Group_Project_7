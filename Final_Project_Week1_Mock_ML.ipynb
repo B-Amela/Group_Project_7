{
 "cells": [
  {
   "cell_type": "code",
   "execution_count": 17,
   "metadata": {},
   "outputs": [],
   "source": [
    "import warnings\n",
    "warnings.filterwarnings('ignore')"
   ]
  },
  {
   "cell_type": "code",
   "execution_count": 18,
   "metadata": {},
   "outputs": [],
   "source": [
    "import numpy as np\n",
    "import pandas as pd\n",
    "from pathlib import Path\n",
    "from collections import Counter"
   ]
  },
  {
   "cell_type": "code",
   "execution_count": 19,
   "metadata": {},
   "outputs": [],
   "source": [
    "from sklearn.metrics import balanced_accuracy_score\n",
    "from sklearn.metrics import confusion_matrix\n",
    "from imblearn.metrics import classification_report_imbalanced"
   ]
  },
  {
   "cell_type": "markdown",
   "metadata": {},
   "source": [
    "# Read the CSV and Perform Basic Data Cleaning"
   ]
  },
  {
   "cell_type": "code",
   "execution_count": 29,
   "metadata": {},
   "outputs": [],
   "source": [
    "# https://help.lendingclub.com/hc/en-us/articles/215488038-What-do-the-different-Note-statuses-mean-\n",
    "\n",
    "columns = [\n",
    "    \"acousticness\",\n",
    "    \"danceability\",\n",
    "    \"duration_ms\",\n",
    "    \"energy\",\n",
    "    \"explicit\",\n",
    "    \"instrumentalness\",\n",
    "    \"key\",\n",
    "    \"liveness\",\n",
    "    \"loudness\",\n",
    "    \"mode\",\n",
    "    \"popularity\",\n",
    "    \"speechiness\",\n",
    "    \"tempo\",\n",
    "    \"valence\",\n",
    "    \"year\"\n",
    "]\n",
    "\n",
    "target = [\"popularity\"]"
   ]
  },
  {
   "cell_type": "code",
   "execution_count": 36,
   "metadata": {},
   "outputs": [
    {
     "data": {
      "text/html": [
       "<div>\n",
       "<style scoped>\n",
       "    .dataframe tbody tr th:only-of-type {\n",
       "        vertical-align: middle;\n",
       "    }\n",
       "\n",
       "    .dataframe tbody tr th {\n",
       "        vertical-align: top;\n",
       "    }\n",
       "\n",
       "    .dataframe thead th {\n",
       "        text-align: right;\n",
       "    }\n",
       "</style>\n",
       "<table border=\"1\" class=\"dataframe\">\n",
       "  <thead>\n",
       "    <tr style=\"text-align: right;\">\n",
       "      <th></th>\n",
       "      <th>acousticness</th>\n",
       "      <th>danceability</th>\n",
       "      <th>duration_ms</th>\n",
       "      <th>energy</th>\n",
       "      <th>explicit</th>\n",
       "      <th>instrumentalness</th>\n",
       "      <th>key</th>\n",
       "      <th>liveness</th>\n",
       "      <th>loudness</th>\n",
       "      <th>mode</th>\n",
       "      <th>popularity</th>\n",
       "      <th>speechiness</th>\n",
       "      <th>tempo</th>\n",
       "      <th>valence</th>\n",
       "      <th>year</th>\n",
       "    </tr>\n",
       "  </thead>\n",
       "  <tbody>\n",
       "    <tr>\n",
       "      <th>0</th>\n",
       "      <td>0.04950</td>\n",
       "      <td>0.612</td>\n",
       "      <td>240400</td>\n",
       "      <td>0.807</td>\n",
       "      <td>0</td>\n",
       "      <td>0.017700</td>\n",
       "      <td>10</td>\n",
       "      <td>0.1010</td>\n",
       "      <td>-2.810</td>\n",
       "      <td>1</td>\n",
       "      <td>89</td>\n",
       "      <td>0.0336</td>\n",
       "      <td>124.053</td>\n",
       "      <td>0.398</td>\n",
       "      <td>2013</td>\n",
       "    </tr>\n",
       "    <tr>\n",
       "      <th>1</th>\n",
       "      <td>0.69500</td>\n",
       "      <td>0.445</td>\n",
       "      <td>244360</td>\n",
       "      <td>0.537</td>\n",
       "      <td>1</td>\n",
       "      <td>0.000017</td>\n",
       "      <td>4</td>\n",
       "      <td>0.0944</td>\n",
       "      <td>-8.532</td>\n",
       "      <td>0</td>\n",
       "      <td>88</td>\n",
       "      <td>0.0400</td>\n",
       "      <td>122.769</td>\n",
       "      <td>0.131</td>\n",
       "      <td>2013</td>\n",
       "    </tr>\n",
       "    <tr>\n",
       "      <th>2</th>\n",
       "      <td>0.00286</td>\n",
       "      <td>0.908</td>\n",
       "      <td>290320</td>\n",
       "      <td>0.669</td>\n",
       "      <td>1</td>\n",
       "      <td>0.000000</td>\n",
       "      <td>7</td>\n",
       "      <td>0.2370</td>\n",
       "      <td>-2.827</td>\n",
       "      <td>1</td>\n",
       "      <td>87</td>\n",
       "      <td>0.0738</td>\n",
       "      <td>112.238</td>\n",
       "      <td>0.662</td>\n",
       "      <td>2002</td>\n",
       "    </tr>\n",
       "    <tr>\n",
       "      <th>3</th>\n",
       "      <td>0.03020</td>\n",
       "      <td>0.949</td>\n",
       "      <td>284200</td>\n",
       "      <td>0.661</td>\n",
       "      <td>1</td>\n",
       "      <td>0.000000</td>\n",
       "      <td>5</td>\n",
       "      <td>0.0454</td>\n",
       "      <td>-4.244</td>\n",
       "      <td>0</td>\n",
       "      <td>86</td>\n",
       "      <td>0.0572</td>\n",
       "      <td>104.504</td>\n",
       "      <td>0.760</td>\n",
       "      <td>2000</td>\n",
       "    </tr>\n",
       "    <tr>\n",
       "      <th>4</th>\n",
       "      <td>0.03710</td>\n",
       "      <td>0.764</td>\n",
       "      <td>196520</td>\n",
       "      <td>0.705</td>\n",
       "      <td>0</td>\n",
       "      <td>0.000019</td>\n",
       "      <td>3</td>\n",
       "      <td>0.0943</td>\n",
       "      <td>-5.279</td>\n",
       "      <td>0</td>\n",
       "      <td>86</td>\n",
       "      <td>0.0278</td>\n",
       "      <td>101.003</td>\n",
       "      <td>0.672</td>\n",
       "      <td>2015</td>\n",
       "    </tr>\n",
       "  </tbody>\n",
       "</table>\n",
       "</div>"
      ],
      "text/plain": [
       "   acousticness  danceability  duration_ms  energy  explicit  \\\n",
       "0       0.04950         0.612       240400   0.807         0   \n",
       "1       0.69500         0.445       244360   0.537         1   \n",
       "2       0.00286         0.908       290320   0.669         1   \n",
       "3       0.03020         0.949       284200   0.661         1   \n",
       "4       0.03710         0.764       196520   0.705         0   \n",
       "\n",
       "   instrumentalness  key  liveness  loudness  mode  popularity  speechiness  \\\n",
       "0          0.017700   10    0.1010    -2.810     1          89       0.0336   \n",
       "1          0.000017    4    0.0944    -8.532     0          88       0.0400   \n",
       "2          0.000000    7    0.2370    -2.827     1          87       0.0738   \n",
       "3          0.000000    5    0.0454    -4.244     0          86       0.0572   \n",
       "4          0.000019    3    0.0943    -5.279     0          86       0.0278   \n",
       "\n",
       "     tempo  valence  year  \n",
       "0  124.053    0.398  2013  \n",
       "1  122.769    0.131  2013  \n",
       "2  112.238    0.662  2002  \n",
       "3  104.504    0.760  2000  \n",
       "4  101.003    0.672  2015  "
      ]
     },
     "execution_count": 36,
     "metadata": {},
     "output_type": "execute_result"
    }
   ],
   "source": [
    "# Load the data\n",
    "file_path = Path('clean_spotify.csv')\n",
    "df = pd.read_csv(file_path)\n",
    "df = df.loc[:, columns].copy()\n",
    "\n",
    "# Drop the null columns where all values are null\n",
    "df = df.dropna(axis='columns', how='all')\n",
    "\n",
    "# Drop the null rows\n",
    "df = df.dropna()\n",
    "\n",
    "# Remove the `Issued` loan status\n",
    "###issued_mask = df['loan_status'] != 'Issued'\n",
    "###df = df.loc[issued_mask]\n",
    "\n",
    "# convert interest rate to numerical\n",
    "###df['int_rate'] = df['int_rate'].str.replace('%', '')\n",
    "###df['int_rate'] = df['int_rate'].astype('float') / 100\n",
    "\n",
    "\n",
    "# Convert the target column values to low_risk and high_risk based on their values\n",
    "###x = {'Current': 'low_risk'}   \n",
    "###df = df.replace(x)\n",
    "\n",
    "###x = dict.fromkeys(['Late (31-120 days)', 'Late (16-30 days)', 'Default', 'In Grace Period'], 'high_risk')    \n",
    "###df = df.replace(x)\n",
    "\n",
    "###df.reset_index(inplace=True, drop=True)\n",
    "\n",
    "df.head()"
   ]
  },
  {
   "cell_type": "markdown",
   "metadata": {},
   "source": [
    "# Split the Data into Training and Testing"
   ]
  },
  {
   "cell_type": "code",
   "execution_count": 31,
   "metadata": {},
   "outputs": [],
   "source": [
    "# Create our features\n",
    "#X = YOUR CODE HERE\n",
    "X = df.drop(columns='popularity')\n",
    "X = pd.get_dummies(X)\n",
    "\n",
    "# Create our target\n",
    "#y = # YOUR CODE HERE\n",
    "y = df.loc[:, target].copy()"
   ]
  },
  {
   "cell_type": "code",
   "execution_count": 32,
   "metadata": {},
   "outputs": [
    {
     "data": {
      "text/html": [
       "<div>\n",
       "<style scoped>\n",
       "    .dataframe tbody tr th:only-of-type {\n",
       "        vertical-align: middle;\n",
       "    }\n",
       "\n",
       "    .dataframe tbody tr th {\n",
       "        vertical-align: top;\n",
       "    }\n",
       "\n",
       "    .dataframe thead th {\n",
       "        text-align: right;\n",
       "    }\n",
       "</style>\n",
       "<table border=\"1\" class=\"dataframe\">\n",
       "  <thead>\n",
       "    <tr style=\"text-align: right;\">\n",
       "      <th></th>\n",
       "      <th>acousticness</th>\n",
       "      <th>danceability</th>\n",
       "      <th>duration_ms</th>\n",
       "      <th>energy</th>\n",
       "      <th>explicit</th>\n",
       "      <th>instrumentalness</th>\n",
       "      <th>key</th>\n",
       "      <th>liveness</th>\n",
       "      <th>loudness</th>\n",
       "      <th>mode</th>\n",
       "      <th>speechiness</th>\n",
       "      <th>tempo</th>\n",
       "      <th>valence</th>\n",
       "      <th>year</th>\n",
       "    </tr>\n",
       "  </thead>\n",
       "  <tbody>\n",
       "    <tr>\n",
       "      <th>count</th>\n",
       "      <td>1941.000000</td>\n",
       "      <td>1941.000000</td>\n",
       "      <td>1941.000000</td>\n",
       "      <td>1941.000000</td>\n",
       "      <td>1941.000000</td>\n",
       "      <td>1941.000000</td>\n",
       "      <td>1941.000000</td>\n",
       "      <td>1941.000000</td>\n",
       "      <td>1941.000000</td>\n",
       "      <td>1941.000000</td>\n",
       "      <td>1941.000000</td>\n",
       "      <td>1941.000000</td>\n",
       "      <td>1941.000000</td>\n",
       "      <td>1941.000000</td>\n",
       "    </tr>\n",
       "    <tr>\n",
       "      <th>mean</th>\n",
       "      <td>0.128173</td>\n",
       "      <td>0.667814</td>\n",
       "      <td>228594.973725</td>\n",
       "      <td>0.721549</td>\n",
       "      <td>0.276662</td>\n",
       "      <td>0.015372</td>\n",
       "      <td>5.369397</td>\n",
       "      <td>0.181726</td>\n",
       "      <td>-5.514082</td>\n",
       "      <td>0.553323</td>\n",
       "      <td>0.103783</td>\n",
       "      <td>120.158442</td>\n",
       "      <td>0.552966</td>\n",
       "      <td>2009.520350</td>\n",
       "    </tr>\n",
       "    <tr>\n",
       "      <th>std</th>\n",
       "      <td>0.172584</td>\n",
       "      <td>0.140608</td>\n",
       "      <td>39249.796103</td>\n",
       "      <td>0.152872</td>\n",
       "      <td>0.447463</td>\n",
       "      <td>0.088371</td>\n",
       "      <td>3.615270</td>\n",
       "      <td>0.140910</td>\n",
       "      <td>1.938950</td>\n",
       "      <td>0.497277</td>\n",
       "      <td>0.096148</td>\n",
       "      <td>26.990475</td>\n",
       "      <td>0.220845</td>\n",
       "      <td>5.875532</td>\n",
       "    </tr>\n",
       "    <tr>\n",
       "      <th>min</th>\n",
       "      <td>0.000019</td>\n",
       "      <td>0.129000</td>\n",
       "      <td>113000.000000</td>\n",
       "      <td>0.054900</td>\n",
       "      <td>0.000000</td>\n",
       "      <td>0.000000</td>\n",
       "      <td>0.000000</td>\n",
       "      <td>0.021500</td>\n",
       "      <td>-20.514000</td>\n",
       "      <td>0.000000</td>\n",
       "      <td>0.023200</td>\n",
       "      <td>60.019000</td>\n",
       "      <td>0.038100</td>\n",
       "      <td>1998.000000</td>\n",
       "    </tr>\n",
       "    <tr>\n",
       "      <th>25%</th>\n",
       "      <td>0.013500</td>\n",
       "      <td>0.581000</td>\n",
       "      <td>203506.000000</td>\n",
       "      <td>0.624000</td>\n",
       "      <td>0.000000</td>\n",
       "      <td>0.000000</td>\n",
       "      <td>2.000000</td>\n",
       "      <td>0.088400</td>\n",
       "      <td>-6.490000</td>\n",
       "      <td>0.000000</td>\n",
       "      <td>0.039700</td>\n",
       "      <td>98.986000</td>\n",
       "      <td>0.390000</td>\n",
       "      <td>2004.000000</td>\n",
       "    </tr>\n",
       "    <tr>\n",
       "      <th>50%</th>\n",
       "      <td>0.055800</td>\n",
       "      <td>0.676000</td>\n",
       "      <td>223186.000000</td>\n",
       "      <td>0.739000</td>\n",
       "      <td>0.000000</td>\n",
       "      <td>0.000000</td>\n",
       "      <td>6.000000</td>\n",
       "      <td>0.124000</td>\n",
       "      <td>-5.285000</td>\n",
       "      <td>1.000000</td>\n",
       "      <td>0.061000</td>\n",
       "      <td>120.028000</td>\n",
       "      <td>0.560000</td>\n",
       "      <td>2010.000000</td>\n",
       "    </tr>\n",
       "    <tr>\n",
       "      <th>75%</th>\n",
       "      <td>0.176000</td>\n",
       "      <td>0.765000</td>\n",
       "      <td>247946.000000</td>\n",
       "      <td>0.840000</td>\n",
       "      <td>1.000000</td>\n",
       "      <td>0.000069</td>\n",
       "      <td>8.000000</td>\n",
       "      <td>0.242000</td>\n",
       "      <td>-4.168000</td>\n",
       "      <td>1.000000</td>\n",
       "      <td>0.129000</td>\n",
       "      <td>134.199000</td>\n",
       "      <td>0.731000</td>\n",
       "      <td>2015.000000</td>\n",
       "    </tr>\n",
       "    <tr>\n",
       "      <th>max</th>\n",
       "      <td>0.976000</td>\n",
       "      <td>0.975000</td>\n",
       "      <td>484146.000000</td>\n",
       "      <td>0.999000</td>\n",
       "      <td>1.000000</td>\n",
       "      <td>0.985000</td>\n",
       "      <td>11.000000</td>\n",
       "      <td>0.853000</td>\n",
       "      <td>-0.276000</td>\n",
       "      <td>1.000000</td>\n",
       "      <td>0.576000</td>\n",
       "      <td>210.851000</td>\n",
       "      <td>0.973000</td>\n",
       "      <td>2020.000000</td>\n",
       "    </tr>\n",
       "  </tbody>\n",
       "</table>\n",
       "</div>"
      ],
      "text/plain": [
       "       acousticness  danceability    duration_ms       energy     explicit  \\\n",
       "count   1941.000000   1941.000000    1941.000000  1941.000000  1941.000000   \n",
       "mean       0.128173      0.667814  228594.973725     0.721549     0.276662   \n",
       "std        0.172584      0.140608   39249.796103     0.152872     0.447463   \n",
       "min        0.000019      0.129000  113000.000000     0.054900     0.000000   \n",
       "25%        0.013500      0.581000  203506.000000     0.624000     0.000000   \n",
       "50%        0.055800      0.676000  223186.000000     0.739000     0.000000   \n",
       "75%        0.176000      0.765000  247946.000000     0.840000     1.000000   \n",
       "max        0.976000      0.975000  484146.000000     0.999000     1.000000   \n",
       "\n",
       "       instrumentalness          key     liveness     loudness         mode  \\\n",
       "count       1941.000000  1941.000000  1941.000000  1941.000000  1941.000000   \n",
       "mean           0.015372     5.369397     0.181726    -5.514082     0.553323   \n",
       "std            0.088371     3.615270     0.140910     1.938950     0.497277   \n",
       "min            0.000000     0.000000     0.021500   -20.514000     0.000000   \n",
       "25%            0.000000     2.000000     0.088400    -6.490000     0.000000   \n",
       "50%            0.000000     6.000000     0.124000    -5.285000     1.000000   \n",
       "75%            0.000069     8.000000     0.242000    -4.168000     1.000000   \n",
       "max            0.985000    11.000000     0.853000    -0.276000     1.000000   \n",
       "\n",
       "       speechiness        tempo      valence         year  \n",
       "count  1941.000000  1941.000000  1941.000000  1941.000000  \n",
       "mean      0.103783   120.158442     0.552966  2009.520350  \n",
       "std       0.096148    26.990475     0.220845     5.875532  \n",
       "min       0.023200    60.019000     0.038100  1998.000000  \n",
       "25%       0.039700    98.986000     0.390000  2004.000000  \n",
       "50%       0.061000   120.028000     0.560000  2010.000000  \n",
       "75%       0.129000   134.199000     0.731000  2015.000000  \n",
       "max       0.576000   210.851000     0.973000  2020.000000  "
      ]
     },
     "execution_count": 32,
     "metadata": {},
     "output_type": "execute_result"
    }
   ],
   "source": [
    "X.describe()"
   ]
  },
  {
   "cell_type": "code",
   "execution_count": 33,
   "metadata": {},
   "outputs": [
    {
     "data": {
      "text/plain": [
       "0     126\n",
       "69     74\n",
       "68     73\n",
       "73     67\n",
       "74     65\n",
       "     ... \n",
       "16      1\n",
       "17      1\n",
       "18      1\n",
       "24      1\n",
       "89      1\n",
       "Name: popularity, Length: 76, dtype: int64"
      ]
     },
     "execution_count": 33,
     "metadata": {},
     "output_type": "execute_result"
    }
   ],
   "source": [
    "# Check the balance of our target values\n",
    "y['popularity'].value_counts()"
   ]
  },
  {
   "cell_type": "code",
   "execution_count": 34,
   "metadata": {},
   "outputs": [],
   "source": [
    "# Split the data set into Train & Test values\n",
    "from sklearn.model_selection import train_test_split\n",
    "# YOUR CODE HERE\n",
    "X_train, X_test, y_train, y_test = train_test_split(X, y, random_state=1)"
   ]
  },
  {
   "cell_type": "code",
   "execution_count": 35,
   "metadata": {},
   "outputs": [
    {
     "data": {
      "text/plain": [
       "popularity\n",
       "0             92\n",
       "73            57\n",
       "68            57\n",
       "69            56\n",
       "61            51\n",
       "              ..\n",
       "16             1\n",
       "17             1\n",
       "24             1\n",
       "26             1\n",
       "88             1\n",
       "Length: 73, dtype: int64"
      ]
     },
     "execution_count": 35,
     "metadata": {},
     "output_type": "execute_result"
    }
   ],
   "source": [
    "#view ytrain counts\n",
    "y_train.value_counts()"
   ]
  },
  {
   "cell_type": "markdown",
   "metadata": {},
   "source": [
    "# Ensemble Learners\n",
    "\n",
    "In this section, you will compare two ensemble algorithms to determine which algorithm results in the best performance. You will train a Balanced Random Forest Classifier and an Easy Ensemble AdaBoost classifier . For each algorithm, be sure to complete the folliowing steps:\n",
    "\n",
    "1. Train the model using the training data. \n",
    "2. Calculate the balanced accuracy score from sklearn.metrics.\n",
    "3. Print the confusion matrix from sklearn.metrics.\n",
    "4. Generate a classication report using the `imbalanced_classification_report` from imbalanced-learn.\n",
    "5. For the Balanced Random Forest Classifier onely, print the feature importance sorted in descending order (most important feature to least important) along with the feature score\n",
    "\n",
    "Note: Use a random state of 1 for each algorithm to ensure consistency between tests"
   ]
  },
  {
   "cell_type": "markdown",
   "metadata": {},
   "source": [
    "### Balanced Random Forest Classifier"
   ]
  },
  {
   "cell_type": "code",
   "execution_count": 25,
   "metadata": {},
   "outputs": [
    {
     "data": {
      "text/plain": [
       "BalancedRandomForestClassifier(random_state=1)"
      ]
     },
     "execution_count": 25,
     "metadata": {},
     "output_type": "execute_result"
    }
   ],
   "source": [
    "# Resample the training data with the BalancedRandomForestClassifier\n",
    "# YOUR CODE HERE\n",
    "from imblearn.ensemble import BalancedRandomForestClassifier\n",
    "\n",
    "brf = BalancedRandomForestClassifier(n_estimators=100, random_state=1)\n",
    "brf.fit(X_train, y_train)"
   ]
  },
  {
   "cell_type": "code",
   "execution_count": 26,
   "metadata": {},
   "outputs": [
    {
     "data": {
      "text/plain": [
       "0.7885466545953005"
      ]
     },
     "execution_count": 26,
     "metadata": {},
     "output_type": "execute_result"
    }
   ],
   "source": [
    "# Calculated the balanced accuracy score\n",
    "# YOUR CODE HERE\n",
    "y_pred = brf.predict(X_test)\n",
    "balanced_accuracy_score(y_test, y_pred)"
   ]
  },
  {
   "cell_type": "code",
   "execution_count": 30,
   "metadata": {},
   "outputs": [
    {
     "data": {
      "text/plain": [
       "array([[   71,    30],\n",
       "       [ 2153, 14951]], dtype=int64)"
      ]
     },
     "execution_count": 30,
     "metadata": {},
     "output_type": "execute_result"
    }
   ],
   "source": [
    "# Create a DataFrame from the confusion matrix.\n",
    "# YOUR CODE HERE\n",
    "confusion_matrix(y_test, y_pred)"
   ]
  },
  {
   "cell_type": "code",
   "execution_count": 31,
   "metadata": {},
   "outputs": [
    {
     "data": {
      "text/html": [
       "<div>\n",
       "<style scoped>\n",
       "    .dataframe tbody tr th:only-of-type {\n",
       "        vertical-align: middle;\n",
       "    }\n",
       "\n",
       "    .dataframe tbody tr th {\n",
       "        vertical-align: top;\n",
       "    }\n",
       "\n",
       "    .dataframe thead th {\n",
       "        text-align: right;\n",
       "    }\n",
       "</style>\n",
       "<table border=\"1\" class=\"dataframe\">\n",
       "  <thead>\n",
       "    <tr style=\"text-align: right;\">\n",
       "      <th></th>\n",
       "      <th>Predicted high_risk</th>\n",
       "      <th>Predicted low_risk</th>\n",
       "    </tr>\n",
       "  </thead>\n",
       "  <tbody>\n",
       "    <tr>\n",
       "      <th>Actual high_risk</th>\n",
       "      <td>71</td>\n",
       "      <td>30</td>\n",
       "    </tr>\n",
       "    <tr>\n",
       "      <th>Actual low_risk</th>\n",
       "      <td>2153</td>\n",
       "      <td>14951</td>\n",
       "    </tr>\n",
       "  </tbody>\n",
       "</table>\n",
       "</div>"
      ],
      "text/plain": [
       "                  Predicted high_risk  Predicted low_risk\n",
       "Actual high_risk                   71                  30\n",
       "Actual low_risk                  2153               14951"
      ]
     },
     "execution_count": 31,
     "metadata": {},
     "output_type": "execute_result"
    }
   ],
   "source": [
    "# Display the confusion matrix\n",
    "cm = confusion_matrix(y_test, y_pred)\n",
    "\n",
    "cm_df = pd.DataFrame(\n",
    "    cm, index=[\"Actual high_risk\", \"Actual low_risk\"], columns=[\"Predicted high_risk\", \"Predicted low_risk\"])\n",
    "cm_df"
   ]
  },
  {
   "cell_type": "code",
   "execution_count": 18,
   "metadata": {},
   "outputs": [
    {
     "name": "stdout",
     "output_type": "stream",
     "text": [
      "                   pre       rec       spe        f1       geo       iba       sup\n",
      "\n",
      "  high_risk       0.03      0.70      0.87      0.06      0.78      0.60       101\n",
      "   low_risk       1.00      0.87      0.70      0.93      0.78      0.62     17104\n",
      "\n",
      "avg / total       0.99      0.87      0.70      0.93      0.78      0.62     17205\n",
      "\n"
     ]
    }
   ],
   "source": [
    "# Print the imbalanced classification report\n",
    "# YOUR CODE HERE\n",
    "print(classification_report_imbalanced(y_test, y_pred))"
   ]
  },
  {
   "cell_type": "code",
   "execution_count": 19,
   "metadata": {},
   "outputs": [
    {
     "data": {
      "text/html": [
       "<div>\n",
       "<style scoped>\n",
       "    .dataframe tbody tr th:only-of-type {\n",
       "        vertical-align: middle;\n",
       "    }\n",
       "\n",
       "    .dataframe tbody tr th {\n",
       "        vertical-align: top;\n",
       "    }\n",
       "\n",
       "    .dataframe thead th {\n",
       "        text-align: right;\n",
       "    }\n",
       "</style>\n",
       "<table border=\"1\" class=\"dataframe\">\n",
       "  <thead>\n",
       "    <tr style=\"text-align: right;\">\n",
       "      <th></th>\n",
       "      <th>feature</th>\n",
       "      <th>importance</th>\n",
       "    </tr>\n",
       "  </thead>\n",
       "  <tbody>\n",
       "    <tr>\n",
       "      <th>0</th>\n",
       "      <td>loan_amnt</td>\n",
       "      <td>0.010580</td>\n",
       "    </tr>\n",
       "    <tr>\n",
       "      <th>1</th>\n",
       "      <td>int_rate</td>\n",
       "      <td>0.029670</td>\n",
       "    </tr>\n",
       "    <tr>\n",
       "      <th>2</th>\n",
       "      <td>installment</td>\n",
       "      <td>0.019802</td>\n",
       "    </tr>\n",
       "    <tr>\n",
       "      <th>3</th>\n",
       "      <td>annual_inc</td>\n",
       "      <td>0.014833</td>\n",
       "    </tr>\n",
       "    <tr>\n",
       "      <th>4</th>\n",
       "      <td>dti</td>\n",
       "      <td>0.017471</td>\n",
       "    </tr>\n",
       "  </tbody>\n",
       "</table>\n",
       "</div>"
      ],
      "text/plain": [
       "       feature  importance\n",
       "0    loan_amnt    0.010580\n",
       "1     int_rate    0.029670\n",
       "2  installment    0.019802\n",
       "3   annual_inc    0.014833\n",
       "4          dti    0.017471"
      ]
     },
     "execution_count": 19,
     "metadata": {},
     "output_type": "execute_result"
    }
   ],
   "source": [
    "# List the features sorted in descending order by feature importance\n",
    "# YOUR CODE HERE\n",
    "# Get importances and features\n",
    "importances = brf.feature_importances_\n",
    "cols = X.columns\n",
    "\n",
    "# Store in a DataFrame\n",
    "feature_importances_df = pd.DataFrame({'feature':cols, 'importance': importances})\n",
    "feature_importances_df.head()"
   ]
  },
  {
   "cell_type": "code",
   "execution_count": 20,
   "metadata": {},
   "outputs": [
    {
     "data": {
      "text/html": [
       "<div>\n",
       "<style scoped>\n",
       "    .dataframe tbody tr th:only-of-type {\n",
       "        vertical-align: middle;\n",
       "    }\n",
       "\n",
       "    .dataframe tbody tr th {\n",
       "        vertical-align: top;\n",
       "    }\n",
       "\n",
       "    .dataframe thead th {\n",
       "        text-align: right;\n",
       "    }\n",
       "</style>\n",
       "<table border=\"1\" class=\"dataframe\">\n",
       "  <thead>\n",
       "    <tr style=\"text-align: right;\">\n",
       "      <th></th>\n",
       "      <th>feature</th>\n",
       "      <th>importance</th>\n",
       "    </tr>\n",
       "  </thead>\n",
       "  <tbody>\n",
       "    <tr>\n",
       "      <th>15</th>\n",
       "      <td>total_rec_prncp</td>\n",
       "      <td>0.078768</td>\n",
       "    </tr>\n",
       "    <tr>\n",
       "      <th>13</th>\n",
       "      <td>total_pymnt</td>\n",
       "      <td>0.058838</td>\n",
       "    </tr>\n",
       "    <tr>\n",
       "      <th>14</th>\n",
       "      <td>total_pymnt_inv</td>\n",
       "      <td>0.056256</td>\n",
       "    </tr>\n",
       "    <tr>\n",
       "      <th>16</th>\n",
       "      <td>total_rec_int</td>\n",
       "      <td>0.053555</td>\n",
       "    </tr>\n",
       "    <tr>\n",
       "      <th>20</th>\n",
       "      <td>last_pymnt_amnt</td>\n",
       "      <td>0.050033</td>\n",
       "    </tr>\n",
       "    <tr>\n",
       "      <th>...</th>\n",
       "      <td>...</td>\n",
       "      <td>...</td>\n",
       "    </tr>\n",
       "    <tr>\n",
       "      <th>19</th>\n",
       "      <td>collection_recovery_fee</td>\n",
       "      <td>0.000000</td>\n",
       "    </tr>\n",
       "    <tr>\n",
       "      <th>22</th>\n",
       "      <td>policy_code</td>\n",
       "      <td>0.000000</td>\n",
       "    </tr>\n",
       "    <tr>\n",
       "      <th>23</th>\n",
       "      <td>acc_now_delinq</td>\n",
       "      <td>0.000000</td>\n",
       "    </tr>\n",
       "    <tr>\n",
       "      <th>46</th>\n",
       "      <td>delinq_amnt</td>\n",
       "      <td>0.000000</td>\n",
       "    </tr>\n",
       "    <tr>\n",
       "      <th>94</th>\n",
       "      <td>debt_settlement_flag_N</td>\n",
       "      <td>0.000000</td>\n",
       "    </tr>\n",
       "  </tbody>\n",
       "</table>\n",
       "<p>95 rows × 2 columns</p>\n",
       "</div>"
      ],
      "text/plain": [
       "                    feature  importance\n",
       "15          total_rec_prncp    0.078768\n",
       "13              total_pymnt    0.058838\n",
       "14          total_pymnt_inv    0.056256\n",
       "16            total_rec_int    0.053555\n",
       "20          last_pymnt_amnt    0.050033\n",
       "..                      ...         ...\n",
       "19  collection_recovery_fee    0.000000\n",
       "22              policy_code    0.000000\n",
       "23           acc_now_delinq    0.000000\n",
       "46              delinq_amnt    0.000000\n",
       "94   debt_settlement_flag_N    0.000000\n",
       "\n",
       "[95 rows x 2 columns]"
      ]
     },
     "execution_count": 20,
     "metadata": {},
     "output_type": "execute_result"
    }
   ],
   "source": [
    "# Sort the DataFrame - Not in starter code\n",
    "feature_importances_df.sort_values('importance', ascending=False)"
   ]
  },
  {
   "cell_type": "markdown",
   "metadata": {},
   "source": [
    "### Easy Ensemble AdaBoost Classifier"
   ]
  },
  {
   "cell_type": "code",
   "execution_count": 33,
   "metadata": {},
   "outputs": [
    {
     "data": {
      "text/plain": [
       "EasyEnsembleClassifier(n_estimators=100, random_state=1)"
      ]
     },
     "execution_count": 33,
     "metadata": {},
     "output_type": "execute_result"
    }
   ],
   "source": [
    "# Train the EasyEnsembleClassifier\n",
    "# YOUR CODE HERE\n",
    "from imblearn.ensemble import EasyEnsembleClassifier\n",
    "eec = EasyEnsembleClassifier(n_estimators=100, random_state=1)\n",
    "\n",
    "eec.fit(X_train, y_train)"
   ]
  },
  {
   "cell_type": "code",
   "execution_count": 34,
   "metadata": {},
   "outputs": [
    {
     "data": {
      "text/plain": [
       "0.9316600714093861"
      ]
     },
     "execution_count": 34,
     "metadata": {},
     "output_type": "execute_result"
    }
   ],
   "source": [
    "# Calculated the balanced accuracy score\n",
    "# YOUR CODE HERE\n",
    "y_pred = eec.predict(X_test)\n",
    "balanced_accuracy_score(y_test, y_pred)"
   ]
  },
  {
   "cell_type": "code",
   "execution_count": 23,
   "metadata": {},
   "outputs": [
    {
     "data": {
      "text/plain": [
       "array([[   93,     8],\n",
       "       [  983, 16121]], dtype=int64)"
      ]
     },
     "execution_count": 23,
     "metadata": {},
     "output_type": "execute_result"
    }
   ],
   "source": [
    "# Create a DataFrame from the confusion matrix.\n",
    "# YOUR CODE HERE\n",
    "confusion_matrix(y_test, y_pred)"
   ]
  },
  {
   "cell_type": "code",
   "execution_count": 35,
   "metadata": {},
   "outputs": [
    {
     "data": {
      "text/html": [
       "<div>\n",
       "<style scoped>\n",
       "    .dataframe tbody tr th:only-of-type {\n",
       "        vertical-align: middle;\n",
       "    }\n",
       "\n",
       "    .dataframe tbody tr th {\n",
       "        vertical-align: top;\n",
       "    }\n",
       "\n",
       "    .dataframe thead th {\n",
       "        text-align: right;\n",
       "    }\n",
       "</style>\n",
       "<table border=\"1\" class=\"dataframe\">\n",
       "  <thead>\n",
       "    <tr style=\"text-align: right;\">\n",
       "      <th></th>\n",
       "      <th>Predicted high_risk</th>\n",
       "      <th>Predicted low_risk</th>\n",
       "    </tr>\n",
       "  </thead>\n",
       "  <tbody>\n",
       "    <tr>\n",
       "      <th>Actual high_risk</th>\n",
       "      <td>93</td>\n",
       "      <td>8</td>\n",
       "    </tr>\n",
       "    <tr>\n",
       "      <th>Actual low_risk</th>\n",
       "      <td>983</td>\n",
       "      <td>16121</td>\n",
       "    </tr>\n",
       "  </tbody>\n",
       "</table>\n",
       "</div>"
      ],
      "text/plain": [
       "                  Predicted high_risk  Predicted low_risk\n",
       "Actual high_risk                   93                   8\n",
       "Actual low_risk                   983               16121"
      ]
     },
     "execution_count": 35,
     "metadata": {},
     "output_type": "execute_result"
    }
   ],
   "source": [
    "# Display the confusion matrix\n",
    "cm = confusion_matrix(y_test, y_pred)\n",
    "\n",
    "cm_df = pd.DataFrame(\n",
    "    cm, index=[\"Actual high_risk\", \"Actual low_risk\"], columns=[\"Predicted high_risk\", \"Predicted low_risk\"])\n",
    "cm_df"
   ]
  },
  {
   "cell_type": "code",
   "execution_count": 24,
   "metadata": {},
   "outputs": [
    {
     "name": "stdout",
     "output_type": "stream",
     "text": [
      "                   pre       rec       spe        f1       geo       iba       sup\n",
      "\n",
      "  high_risk       0.09      0.92      0.94      0.16      0.93      0.87       101\n",
      "   low_risk       1.00      0.94      0.92      0.97      0.93      0.87     17104\n",
      "\n",
      "avg / total       0.99      0.94      0.92      0.97      0.93      0.87     17205\n",
      "\n"
     ]
    }
   ],
   "source": [
    "# Print the imbalanced classification report\n",
    "# YOUR CODE HERE\n",
    "print(classification_report_imbalanced(y_test, y_pred))"
   ]
  },
  {
   "cell_type": "code",
   "execution_count": null,
   "metadata": {},
   "outputs": [],
   "source": []
  }
 ],
 "metadata": {
  "kernelspec": {
   "display_name": "mlenv",
   "language": "python",
   "name": "mlenv"
  },
  "language_info": {
   "codemirror_mode": {
    "name": "ipython",
    "version": 3
   },
   "file_extension": ".py",
   "mimetype": "text/x-python",
   "name": "python",
   "nbconvert_exporter": "python",
   "pygments_lexer": "ipython3",
   "version": "3.7.11"
  }
 },
 "nbformat": 4,
 "nbformat_minor": 2
}
