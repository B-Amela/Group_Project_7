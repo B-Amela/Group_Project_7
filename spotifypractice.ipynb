{
  "nbformat": 4,
  "nbformat_minor": 0,
  "metadata": {
    "colab": {
      "name": "spotifypractice.ipynb",
      "provenance": [],
      "collapsed_sections": []
    },
    "kernelspec": {
      "name": "python3",
      "display_name": "Python 3"
    },
    "language_info": {
      "name": "python"
    }
  },
  "cells": [
    {
      "cell_type": "code",
      "execution_count": null,
      "metadata": {
        "colab": {
          "base_uri": "https://localhost:8080/"
        },
        "id": "g_GV3g3UlNxw",
        "outputId": "d0f6d1b2-f980-43ea-cb73-4f31df2e6b74"
      },
      "outputs": [
        {
          "output_type": "stream",
          "name": "stdout",
          "text": [
            "\r0% [Working]\r            \rHit:1 http://archive.ubuntu.com/ubuntu bionic InRelease\n",
            "\r0% [Connecting to security.ubuntu.com (185.125.190.36)] [Connected to cloud.r-p\r                                                                               \rHit:2 https://developer.download.nvidia.com/compute/cuda/repos/ubuntu1804/x86_64  InRelease\n",
            "\r0% [Waiting for headers] [Waiting for headers] [Waiting for headers] [Waiting f\r0% [1 InRelease gpgv 242 kB] [Waiting for headers] [Waiting for headers] [Waiti\r                                                                               \rGet:3 http://archive.ubuntu.com/ubuntu bionic-updates InRelease [88.7 kB]\n",
            "Get:4 https://cloud.r-project.org/bin/linux/ubuntu bionic-cran40/ InRelease [3,626 B]\n",
            "Hit:5 http://ppa.launchpad.net/c2d4u.team/c2d4u4.0+/ubuntu bionic InRelease\n",
            "Get:6 http://security.ubuntu.com/ubuntu bionic-security InRelease [88.7 kB]\n",
            "Ign:7 https://developer.download.nvidia.com/compute/machine-learning/repos/ubuntu1804/x86_64  InRelease\n",
            "Get:8 http://archive.ubuntu.com/ubuntu bionic-backports InRelease [74.6 kB]\n",
            "Hit:9 https://developer.download.nvidia.com/compute/machine-learning/repos/ubuntu1804/x86_64  Release\n",
            "Hit:10 http://ppa.launchpad.net/cran/libgit2/ubuntu bionic InRelease\n",
            "Hit:11 http://ppa.launchpad.net/deadsnakes/ppa/ubuntu bionic InRelease\n",
            "Get:12 http://ppa.launchpad.net/graphics-drivers/ppa/ubuntu bionic InRelease [21.3 kB]\n",
            "Get:13 http://archive.ubuntu.com/ubuntu bionic-updates/universe amd64 Packages [2,277 kB]\n",
            "Get:14 http://archive.ubuntu.com/ubuntu bionic-updates/multiverse amd64 Packages [29.8 kB]\n",
            "Get:15 http://archive.ubuntu.com/ubuntu bionic-updates/restricted amd64 Packages [966 kB]\n",
            "Get:16 http://archive.ubuntu.com/ubuntu bionic-updates/main amd64 Packages [3,199 kB]\n",
            "Get:18 http://security.ubuntu.com/ubuntu bionic-security/universe amd64 Packages [1,503 kB]\n",
            "Get:19 http://security.ubuntu.com/ubuntu bionic-security/multiverse amd64 Packages [22.8 kB]\n",
            "Get:20 http://security.ubuntu.com/ubuntu bionic-security/main amd64 Packages [2,765 kB]\n",
            "Get:21 http://ppa.launchpad.net/graphics-drivers/ppa/ubuntu bionic/main amd64 Packages [44.3 kB]\n",
            "Get:22 http://security.ubuntu.com/ubuntu bionic-security/restricted amd64 Packages [932 kB]\n",
            "Fetched 12.0 MB in 4s (3,338 kB/s)\n",
            "Reading package lists... Done\n"
          ]
        }
      ],
      "source": [
        "import pandas as pd \n",
        "import os\n",
        "# Find the latest version of spark 3.0 from http://www.apache.org/dist/spark/ and enter as the spark version\n",
        "# For example:\n",
        "# spark_version = 'spark-3.0.3'\n",
        "spark_version = 'spark-3.0.3'\n",
        "os.environ['SPARK_VERSION']=spark_version\n",
        "\n",
        "# Install Spark and Java\n",
        "!apt-get update\n",
        "!apt-get install openjdk-11-jdk-headless -qq > /dev/null\n",
        "!wget -q http://www.apache.org/dist/spark/$SPARK_VERSION/$SPARK_VERSION-bin-hadoop2.7.tgz\n",
        "!tar xf $SPARK_VERSION-bin-hadoop2.7.tgz\n",
        "!pip install -q findspark\n",
        "\n",
        "# Set Environment Variables\n",
        "import os\n",
        "os.environ[\"JAVA_HOME\"] = \"/usr/lib/jvm/java-11-openjdk-amd64\"\n",
        "os.environ[\"SPARK_HOME\"] = f\"/content/{spark_version}-bin-hadoop2.7\"\n",
        "\n",
        "# Start a SparkSession\n",
        "import findspark\n",
        "findspark.init()"
      ]
    },
    {
      "cell_type": "code",
      "source": [
        "# Download the Postgres driver that will allow Spark to interact with Postgres.\n",
        "!wget https://jdbc.postgresql.org/download/postgresql-42.2.16.jar"
      ],
      "metadata": {
        "colab": {
          "base_uri": "https://localhost:8080/"
        },
        "id": "sGxHFvLQmA7C",
        "outputId": "17f57204-52f2-4e3f-d0f2-cc4f8a8512b4"
      },
      "execution_count": null,
      "outputs": [
        {
          "output_type": "stream",
          "name": "stdout",
          "text": [
            "--2022-05-20 03:52:13--  https://jdbc.postgresql.org/download/postgresql-42.2.16.jar\n",
            "Resolving jdbc.postgresql.org (jdbc.postgresql.org)... 72.32.157.228, 2001:4800:3e1:1::228\n",
            "Connecting to jdbc.postgresql.org (jdbc.postgresql.org)|72.32.157.228|:443... connected.\n",
            "HTTP request sent, awaiting response... 200 OK\n",
            "Length: 1002883 (979K) [application/java-archive]\n",
            "Saving to: ‘postgresql-42.2.16.jar’\n",
            "\n",
            "postgresql-42.2.16. 100%[===================>] 979.38K  6.23MB/s    in 0.2s    \n",
            "\n",
            "2022-05-20 03:52:13 (6.23 MB/s) - ‘postgresql-42.2.16.jar’ saved [1002883/1002883]\n",
            "\n"
          ]
        }
      ]
    },
    {
      "cell_type": "code",
      "source": [
        "from pyspark.sql import SparkSession\n",
        "spark = SparkSession.builder.appName(\"ETL\").config(\"spark.driver.extraClassPath\",\"/content/postgresql-42.2.16.jar\").getOrCreate()"
      ],
      "metadata": {
        "id": "TT_Wpv-nmDaz"
      },
      "execution_count": null,
      "outputs": []
    },
    {
      "cell_type": "code",
      "source": [
        "# Read in data from S3 Buckets\n",
        "from pyspark import SparkFiles\n",
        "url =\"https://spotifyfinal-bucket.s3.amazonaws.com/spotify_dataset.csv\"\n",
        "spark.sparkContext.addFile(url)\n",
        "raw_df = spark.read.csv(SparkFiles.get(\"spotify_dataset.csv\"), sep=\",\", header=True, inferSchema=True)\n",
        "\n",
        "raw_df.head()"
      ],
      "metadata": {
        "colab": {
          "base_uri": "https://localhost:8080/"
        },
        "id": "yj-Yr5cGmazg",
        "outputId": "7866da36-309b-4a73-b8d0-27fdf895fdab"
      },
      "execution_count": null,
      "outputs": [
        {
          "output_type": "execute_result",
          "data": {
            "text/plain": [
              "Row(track='Jealous Kind Of Fella', artist='Garland Green', uri='spotify:track:1dtKN6wwlolkM8XZy2y9C1', danceability='0.417', energy='0.62', key='3', loudness='-7.727', mode=1.0, speechiness=0.0403, acousticness=0.49, instrumentalness=0.0, liveness=0.0779, valence=0.845, tempo=185.655, duration_ms=173533.0, time_signature=3.0, chorus_hit=32.94975, sections=9.0, popularity=1.0, decade='60s')"
            ]
          },
          "metadata": {},
          "execution_count": 7
        }
      ]
    },
    {
      "cell_type": "code",
      "source": [
        "raw_df.show()"
      ],
      "metadata": {
        "colab": {
          "base_uri": "https://localhost:8080/"
        },
        "id": "o6237C2VoOQf",
        "outputId": "3242547f-1fe0-43c5-89c7-3c8760588e23"
      },
      "execution_count": null,
      "outputs": [
        {
          "output_type": "stream",
          "name": "stdout",
          "text": [
            "+--------------------+--------------------+--------------------+--------------------+------+-----+--------+-------+-----------+------------+----------------+--------+-------+-------+-----------+--------------+----------+--------+----------+------+\n",
            "|               track|              artist|                 uri|        danceability|energy|  key|loudness|   mode|speechiness|acousticness|instrumentalness|liveness|valence|  tempo|duration_ms|time_signature|chorus_hit|sections|popularity|decade|\n",
            "+--------------------+--------------------+--------------------+--------------------+------+-----+--------+-------+-----------+------------+----------------+--------+-------+-------+-----------+--------------+----------+--------+----------+------+\n",
            "|Jealous Kind Of F...|       Garland Green|spotify:track:1dt...|               0.417|  0.62|    3|  -7.727|    1.0|     0.0403|        0.49|             0.0|  0.0779|  0.845|185.655|   173533.0|           3.0|  32.94975|     9.0|       1.0|   60s|\n",
            "|       Initials B.B.|    Serge Gainsbourg|spotify:track:5hj...|               0.498| 0.505|    3| -12.475|    1.0|     0.0337|       0.018|           0.107|   0.176|  0.797|101.801|   213613.0|           4.0|   48.8251|    10.0|       0.0|   60s|\n",
            "|        Melody Twist|         Lord Melody|spotify:track:6uk...|               0.657| 0.649|    5| -13.392|    1.0|      0.038|       0.846|         4.42E-6|   0.119|  0.908| 115.94|   223960.0|           4.0|  37.22663|    12.0|       0.0|   60s|\n",
            "|       Mi Bomba Sonó|          Celia Cruz|spotify:track:7aN...|                0.59| 0.545|    7| -12.058|    0.0|      0.104|       0.706|          0.0246|   0.061|  0.967|105.592|   157907.0|           4.0|  24.75484|     8.0|       0.0|   60s|\n",
            "|         Uravu Solla|         P. Susheela|spotify:track:1rQ...|               0.515| 0.765|   11|  -3.515|    0.0|      0.124|       0.857|         8.72E-4|   0.213|  0.906|114.617|   245600.0|           4.0|  21.79874|    14.0|       0.0|   60s|\n",
            "|           Beat n. 3|     Ennio Morricone|spotify:track:32V...|               0.697| 0.673|    0| -10.573|    1.0|     0.0266|       0.714|           0.919|   0.122|  0.778|112.117|   167667.0|           4.0|  65.48604|     7.0|       0.0|   60s|\n",
            "|Samba De Uma Nota...|Antônio Carlos Jobim|spotify:track:62e...|               0.662| 0.272|    0| -18.883|    1.0|     0.0313|        0.36|           0.228|  0.0963|  0.591|143.507|   134360.0|           4.0|  47.82155|     7.0|       0.0|   60s|\n",
            "|          Happy Days|        Marv Johnson|spotify:track:0ec...|                0.72| 0.624|    5|  -9.086|    0.0|     0.0473|       0.795|             0.0|   0.488|  0.887|119.999|   160040.0|           4.0|  30.42891|     8.0|       1.0|   60s|\n",
            "|Carolina - Remast...|      Caetano Veloso|spotify:track:15g...|               0.545|  0.22|    2| -15.079|    0.0|     0.0828|       0.582|           0.239|   0.269|  0.386|118.223|   158413.0|           4.0|  47.08099|     6.0|       0.0|   60s|\n",
            "|    I Can Hear Music|      The Beach Boys|spotify:track:1hc...|               0.511| 0.603|    2|  -7.637|    1.0|      0.028|      0.0385|         1.67E-6|   0.142|  0.685|128.336|   157293.0|           4.0|  43.36534|     9.0|       1.0|   60s|\n",
            "|\"The Aftermath (F...|     Jerry Goldsmith|spotify:track:6Rt...|               0.491|0.0675|   10| -17.096|    1.0|     0.0606|       0.826|           0.519|   0.134|  0.122|124.986|   177387.0|           4.0|  35.90329|     7.0|       0.0|   60s|\n",
            "|           Ride Away|         Roy Orbison|spotify:track:1nx...|                0.52| 0.411|    9| -12.411|    1.0|     0.0315|       0.786|          0.0012|   0.146|   0.35| 120.29|   207573.0|           4.0|  37.54527|     9.0|       1.0|   60s|\n",
            "|  Caboclo Nordestino|        Luiz Gonzaga|spotify:track:1IF...|               0.717| 0.565|    2|  -8.606|    0.0|     0.0283|       0.451|             0.0|   0.108|  0.961|100.757|   134507.0|           4.0|  49.41165|     6.0|       0.0|   60s|\n",
            "|            P.T. 109|          Jimmy Dean|spotify:track:3vf...|               0.746| 0.666|    2| -10.408|    1.0|      0.146|       0.543|             0.0|  0.0488|   0.84| 94.024|   192427.0|           4.0|  78.59848|     5.0|       1.0|   60s|\n",
            "|        Bye Bye Baby|          Mary Wells|spotify:track:4Hn...|               0.598| 0.448|    4| -14.978|    0.0|     0.0399|       0.832|           0.471|   0.588|  0.832|124.875|   169133.0|           4.0|  57.17076|     8.0|       1.0|   60s|\n",
            "|A Festa dos Seus ...|                Leño|spotify:track:6ON...|               0.521| 0.396|    5| -12.299|    1.0|     0.0463|       0.576|         8.93E-4|   0.462|  0.599| 82.628|   179600.0|           4.0|  48.36482|     8.0|       0.0|   60s|\n",
            "|       My Empty Arms|       Jackie Wilson|spotify:track:7CH...|               0.356|  0.45|    6|  -6.677|    1.0|       0.03|       0.924|         2.06E-4|   0.128|  0.313|   74.4|   172453.0|           4.0|  18.25243|    13.0|       1.0|   60s|\n",
            "|Alfômega - Remast...|      Caetano Veloso|spotify:track:4DE...|               0.493| 0.666|   11|  -8.209|    1.0|     0.0967|       0.041|         4.42E-5|   0.351|  0.519|123.446|   357747.0|           4.0|  90.21302|    14.0|       0.0|   60s|\n",
            "|\"Parsifal: \"\"Wehe...| dem ich verfalle...|Staatskapelle Berlin|spotify:track:1NI...| 0.147|0.246|       1|-16.997|        1.0|      0.0504|           0.964|   0.115|  0.113| 0.0387|      74.94|      464533.0|       4.0|76.04885|      18.0|     0|\n",
            "|Let The Good Time...|       Shirley & Lee|spotify:track:2eP...|               0.502| 0.445|    1|  -9.562|    1.0|     0.0688|       0.481|             0.0|  0.0823|  0.939|140.988|   145653.0|           4.0|  18.90465|     6.0|       1.0|   60s|\n",
            "+--------------------+--------------------+--------------------+--------------------+------+-----+--------+-------+-----------+------------+----------------+--------+-------+-------+-----------+--------------+----------+--------+----------+------+\n",
            "only showing top 20 rows\n",
            "\n"
          ]
        }
      ]
    },
    {
      "cell_type": "markdown",
      "source": [
        "Cleaning data"
      ],
      "metadata": {
        "id": "ADgPTkmloawO"
      }
    },
    {
      "cell_type": "code",
      "source": [
        "clean1df = raw_df.drop_duplicates(subset=['uri'])\n",
        "\n",
        "clean1df.show()"
      ],
      "metadata": {
        "colab": {
          "base_uri": "https://localhost:8080/"
        },
        "id": "xjdkcSVMolUx",
        "outputId": "c6e764f8-12da-4367-d594-5c6d2012525e"
      },
      "execution_count": null,
      "outputs": [
        {
          "output_type": "stream",
          "name": "stdout",
          "text": [
            "+--------------------+--------------------+--------------------+------------+------+---+--------+----+-----------+------------+----------------+--------+-------+-------+-----------+--------------+----------+--------+----------+------+\n",
            "|               track|              artist|                 uri|danceability|energy|key|loudness|mode|speechiness|acousticness|instrumentalness|liveness|valence|  tempo|duration_ms|time_signature|chorus_hit|sections|popularity|decade|\n",
            "+--------------------+--------------------+--------------------+------------+------+---+--------+----+-----------+------------+----------------+--------+-------+-------+-----------+--------------+----------+--------+----------+------+\n",
            "|           Spotlight|     Jennifer Hudson|spotify:track:02Q...|       0.707| 0.724| 11|  -3.887| 0.0|      0.051|      0.0448|             0.0|   0.072|  0.659|108.984|   250107.0|           4.0|  61.48974|    10.0|       1.0|   00s|\n",
            "|         Tres Pontas|   Milton Nascimento|spotify:track:03v...|       0.348| 0.524|  7| -14.179| 1.0|     0.0417|       0.657|         6.72E-5|  0.0931|  0.348| 86.311|   160173.0|           5.0|  84.14468|     5.0|       0.0|   60s|\n",
            "|         No Shopping|French Montana Fe...|spotify:track:0Di...|       0.895| 0.491| 10| -10.261| 0.0|      0.246|      0.0144|         9.88E-4|   0.143|  0.249| 83.505|   227727.0|           4.0|  35.25507|    11.0|       1.0|   10s|\n",
            "|             Burarum|               Phazm|spotify:track:0KB...|       0.305| 0.551| 10|  -6.984| 1.0|     0.0423|     0.00382|           0.372|   0.301|  0.105|  99.97|   314760.0|           4.0|  81.47703|     8.0|       0.0|   00s|\n",
            "|             Respect|    The Real Roxanne|spotify:track:0LL...|       0.894| 0.642| 10| -15.886| 0.0|     0.0694|      0.0413|         2.56E-4|  0.0696|  0.912|112.031|   258827.0|           4.0|  52.31244|    11.0|       0.0|   80s|\n",
            "|      Hollaback Girl|        Gwen Stefani|spotify:track:0Lz...|       0.926| 0.916| 10|  -2.221| 0.0|     0.0929|        0.35|         6.17E-6|  0.0234|  0.904|110.007|   199853.0|           4.0|  38.87837|    10.0|       1.0|   00s|\n",
            "|     Keep On Running|The Spencer Davis...|spotify:track:0XX...|        0.66| 0.768|  9|  -5.731| 1.0|      0.127|       0.189|             0.0|   0.225|  0.737|  138.3|   166573.0|           4.0|  34.08158|    10.0|       1.0|   60s|\n",
            "|       To Love Again|         Alan Pasqua|spotify:track:0YK...|       0.392|0.0949|  2| -20.899| 1.0|      0.071|       0.993|           0.889|   0.081| 0.0953| 92.004|   397933.0|           4.0|  39.14144|    17.0|       0.0|   90s|\n",
            "|  Prove It All Night|   Bruce Springsteen|spotify:track:0Ye...|       0.452| 0.773|  6|  -6.794| 0.0|     0.0305|      0.0163|         2.83E-5|   0.466|  0.847|114.285|   237440.0|           4.0|  30.02352|     8.0|       1.0|   70s|\n",
            "|Windows Of The World|        Scott Walker|spotify:track:0Zy...|       0.385| 0.114|  7| -21.888| 1.0|     0.0288|       0.828|           0.014|   0.211|  0.243|136.825|   262760.0|           4.0|  34.63443|    15.0|       0.0|   60s|\n",
            "|          Desafinado|           Stan Getz|spotify:track:0cB...|       0.505| 0.171| 10| -15.883| 1.0|     0.0457|        0.88|         4.31E-5|     0.1|  0.512|144.494|   240920.0|           4.0|  22.74719|    12.0|       0.0|   80s|\n",
            "|Five Minutes of Funk|             Whodini|spotify:track:0cO...|       0.862| 0.873|  1|  -3.522| 1.0|      0.118|       0.196|         9.15E-6|    0.31|  0.861|107.136|   323027.0|           4.0|  20.25681|    14.0|       0.0|   80s|\n",
            "|I Don't Want This...|          Luke Bryan|spotify:track:0cV...|       0.616| 0.728|  9|   -4.02| 0.0|     0.0278|      0.0275|             0.0|   0.228|  0.375|111.934|   219973.0|           4.0|  42.64062|    12.0|       1.0|   10s|\n",
            "|            Arclight|          VNV Nation|spotify:track:0eq...|       0.291| 0.583|  8| -11.232| 1.0|     0.0815|      0.0451|          0.0661|   0.112|  0.246|129.933|   298697.0|           4.0|  35.06585|    16.0|       0.0|   90s|\n",
            "|              7 Days|         Craig David|spotify:track:0gP...|       0.659| 0.812|  4|  -7.499| 0.0|     0.0487|        0.23|             0.0|  0.0951|  0.888| 83.013|   235133.0|           4.0|  25.46132|    12.0|       1.0|   00s|\n",
            "|Flute Sonata in E...|Johann Sebastian ...|spotify:track:0gS...|       0.148|0.0997|  7|  -18.35| 0.0|     0.0426|       0.992|           0.925|   0.106| 0.0563| 98.441|   145442.0|           3.0|  30.81609|     9.0|       0.0|   10s|\n",
            "|             Mad Izm|        Channel Live|spotify:track:0hv...|       0.901| 0.655| 11| -10.085| 0.0|      0.273|     0.00743|         0.00629|   0.173|  0.807| 96.005|   255533.0|           4.0|  20.89968|    14.0|       1.0|   90s|\n",
            "|    Amarga Confissao|    Nelson Gonçalves|spotify:track:0kq...|       0.499| 0.437|  7|  -8.884| 0.0|     0.0378|       0.865|             0.0|   0.343|  0.613|120.686|   156440.0|           4.0|  32.01274|     7.0|       0.0|   60s|\n",
            "|Whispers In The Dark|      Mumford & Sons|spotify:track:0l5...|       0.385|  0.73|  2|   -7.82| 1.0|     0.0409|     0.00382|         0.00278|   0.123|   0.36|134.659|   195867.0|           4.0|  44.23122|     7.0|       1.0|   10s|\n",
            "|               Never|              Jaheim|spotify:track:0mR...|       0.537| 0.337|  4|  -8.117| 1.0|     0.0728|       0.224|             0.0|   0.107|  0.605|105.367|   266320.0|           4.0|  33.19157|     9.0|       1.0|   00s|\n",
            "+--------------------+--------------------+--------------------+------------+------+---+--------+----+-----------+------------+----------------+--------+-------+-------+-----------+--------------+----------+--------+----------+------+\n",
            "only showing top 20 rows\n",
            "\n"
          ]
        }
      ]
    },
    {
      "cell_type": "code",
      "source": [
        "clean2df = clean1df.drop(\"uri\",\"artist\", \"track\")\n",
        "clean2df.show()"
      ],
      "metadata": {
        "colab": {
          "base_uri": "https://localhost:8080/"
        },
        "id": "umRRrGespxNI",
        "outputId": "823f6f47-a019-445e-cbb3-8e282db988a9"
      },
      "execution_count": null,
      "outputs": [
        {
          "output_type": "stream",
          "name": "stdout",
          "text": [
            "+------------+------+---+--------+----+-----------+------------+----------------+--------+-------+-------+-----------+--------------+----------+--------+----------+------+\n",
            "|danceability|energy|key|loudness|mode|speechiness|acousticness|instrumentalness|liveness|valence|  tempo|duration_ms|time_signature|chorus_hit|sections|popularity|decade|\n",
            "+------------+------+---+--------+----+-----------+------------+----------------+--------+-------+-------+-----------+--------------+----------+--------+----------+------+\n",
            "|       0.707| 0.724| 11|  -3.887| 0.0|      0.051|      0.0448|             0.0|   0.072|  0.659|108.984|   250107.0|           4.0|  61.48974|    10.0|       1.0|   00s|\n",
            "|       0.348| 0.524|  7| -14.179| 1.0|     0.0417|       0.657|         6.72E-5|  0.0931|  0.348| 86.311|   160173.0|           5.0|  84.14468|     5.0|       0.0|   60s|\n",
            "|       0.895| 0.491| 10| -10.261| 0.0|      0.246|      0.0144|         9.88E-4|   0.143|  0.249| 83.505|   227727.0|           4.0|  35.25507|    11.0|       1.0|   10s|\n",
            "|       0.305| 0.551| 10|  -6.984| 1.0|     0.0423|     0.00382|           0.372|   0.301|  0.105|  99.97|   314760.0|           4.0|  81.47703|     8.0|       0.0|   00s|\n",
            "|       0.894| 0.642| 10| -15.886| 0.0|     0.0694|      0.0413|         2.56E-4|  0.0696|  0.912|112.031|   258827.0|           4.0|  52.31244|    11.0|       0.0|   80s|\n",
            "|       0.926| 0.916| 10|  -2.221| 0.0|     0.0929|        0.35|         6.17E-6|  0.0234|  0.904|110.007|   199853.0|           4.0|  38.87837|    10.0|       1.0|   00s|\n",
            "|        0.66| 0.768|  9|  -5.731| 1.0|      0.127|       0.189|             0.0|   0.225|  0.737|  138.3|   166573.0|           4.0|  34.08158|    10.0|       1.0|   60s|\n",
            "|       0.392|0.0949|  2| -20.899| 1.0|      0.071|       0.993|           0.889|   0.081| 0.0953| 92.004|   397933.0|           4.0|  39.14144|    17.0|       0.0|   90s|\n",
            "|       0.452| 0.773|  6|  -6.794| 0.0|     0.0305|      0.0163|         2.83E-5|   0.466|  0.847|114.285|   237440.0|           4.0|  30.02352|     8.0|       1.0|   70s|\n",
            "|       0.385| 0.114|  7| -21.888| 1.0|     0.0288|       0.828|           0.014|   0.211|  0.243|136.825|   262760.0|           4.0|  34.63443|    15.0|       0.0|   60s|\n",
            "|       0.505| 0.171| 10| -15.883| 1.0|     0.0457|        0.88|         4.31E-5|     0.1|  0.512|144.494|   240920.0|           4.0|  22.74719|    12.0|       0.0|   80s|\n",
            "|       0.862| 0.873|  1|  -3.522| 1.0|      0.118|       0.196|         9.15E-6|    0.31|  0.861|107.136|   323027.0|           4.0|  20.25681|    14.0|       0.0|   80s|\n",
            "|       0.616| 0.728|  9|   -4.02| 0.0|     0.0278|      0.0275|             0.0|   0.228|  0.375|111.934|   219973.0|           4.0|  42.64062|    12.0|       1.0|   10s|\n",
            "|       0.291| 0.583|  8| -11.232| 1.0|     0.0815|      0.0451|          0.0661|   0.112|  0.246|129.933|   298697.0|           4.0|  35.06585|    16.0|       0.0|   90s|\n",
            "|       0.659| 0.812|  4|  -7.499| 0.0|     0.0487|        0.23|             0.0|  0.0951|  0.888| 83.013|   235133.0|           4.0|  25.46132|    12.0|       1.0|   00s|\n",
            "|       0.148|0.0997|  7|  -18.35| 0.0|     0.0426|       0.992|           0.925|   0.106| 0.0563| 98.441|   145442.0|           3.0|  30.81609|     9.0|       0.0|   10s|\n",
            "|       0.901| 0.655| 11| -10.085| 0.0|      0.273|     0.00743|         0.00629|   0.173|  0.807| 96.005|   255533.0|           4.0|  20.89968|    14.0|       1.0|   90s|\n",
            "|       0.499| 0.437|  7|  -8.884| 0.0|     0.0378|       0.865|             0.0|   0.343|  0.613|120.686|   156440.0|           4.0|  32.01274|     7.0|       0.0|   60s|\n",
            "|       0.385|  0.73|  2|   -7.82| 1.0|     0.0409|     0.00382|         0.00278|   0.123|   0.36|134.659|   195867.0|           4.0|  44.23122|     7.0|       1.0|   10s|\n",
            "|       0.537| 0.337|  4|  -8.117| 1.0|     0.0728|       0.224|             0.0|   0.107|  0.605|105.367|   266320.0|           4.0|  33.19157|     9.0|       1.0|   00s|\n",
            "+------------+------+---+--------+----+-----------+------------+----------------+--------+-------+-------+-----------+--------------+----------+--------+----------+------+\n",
            "only showing top 20 rows\n",
            "\n"
          ]
        }
      ]
    },
    {
      "cell_type": "code",
      "source": [
        "Info_df = clean1df.drop(\"danceability\",\"energy\", \"key\", \"loudness\", \"mode\", \"speechiness\", \"acousticness\", \n",
        "                              \"instrumentalness\", \"liveness\", \"valence\", \"tempo\", \"duration_ms\", \"time_signature\",\n",
        "                              \"chorus_hit\", \"sections\")\n",
        "\n",
        "Info_df.show()"
      ],
      "metadata": {
        "colab": {
          "base_uri": "https://localhost:8080/"
        },
        "id": "XSJQwOCBqVSo",
        "outputId": "16498c71-4e10-430e-a0dc-c971fa8b1a9f"
      },
      "execution_count": null,
      "outputs": [
        {
          "output_type": "stream",
          "name": "stdout",
          "text": [
            "+--------------------+--------------------+--------------------+----------+------+\n",
            "|               track|              artist|                 uri|popularity|decade|\n",
            "+--------------------+--------------------+--------------------+----------+------+\n",
            "|           Spotlight|     Jennifer Hudson|spotify:track:02Q...|       1.0|   00s|\n",
            "|         Tres Pontas|   Milton Nascimento|spotify:track:03v...|       0.0|   60s|\n",
            "|         No Shopping|French Montana Fe...|spotify:track:0Di...|       1.0|   10s|\n",
            "|             Burarum|               Phazm|spotify:track:0KB...|       0.0|   00s|\n",
            "|             Respect|    The Real Roxanne|spotify:track:0LL...|       0.0|   80s|\n",
            "|      Hollaback Girl|        Gwen Stefani|spotify:track:0Lz...|       1.0|   00s|\n",
            "|     Keep On Running|The Spencer Davis...|spotify:track:0XX...|       1.0|   60s|\n",
            "|       To Love Again|         Alan Pasqua|spotify:track:0YK...|       0.0|   90s|\n",
            "|  Prove It All Night|   Bruce Springsteen|spotify:track:0Ye...|       1.0|   70s|\n",
            "|Windows Of The World|        Scott Walker|spotify:track:0Zy...|       0.0|   60s|\n",
            "|          Desafinado|           Stan Getz|spotify:track:0cB...|       0.0|   80s|\n",
            "|Five Minutes of Funk|             Whodini|spotify:track:0cO...|       0.0|   80s|\n",
            "|I Don't Want This...|          Luke Bryan|spotify:track:0cV...|       1.0|   10s|\n",
            "|            Arclight|          VNV Nation|spotify:track:0eq...|       0.0|   90s|\n",
            "|              7 Days|         Craig David|spotify:track:0gP...|       1.0|   00s|\n",
            "|Flute Sonata in E...|Johann Sebastian ...|spotify:track:0gS...|       0.0|   10s|\n",
            "|             Mad Izm|        Channel Live|spotify:track:0hv...|       1.0|   90s|\n",
            "|    Amarga Confissao|    Nelson Gonçalves|spotify:track:0kq...|       0.0|   60s|\n",
            "|Whispers In The Dark|      Mumford & Sons|spotify:track:0l5...|       1.0|   10s|\n",
            "|               Never|              Jaheim|spotify:track:0mR...|       1.0|   00s|\n",
            "+--------------------+--------------------+--------------------+----------+------+\n",
            "only showing top 20 rows\n",
            "\n"
          ]
        }
      ]
    },
    {
      "cell_type": "code",
      "source": [
        "Characteristics_df = clean1df.drop(\"track\", \"artist\", \"popularity\", \"decade\")\n",
        "\n",
        "Characteristics_df.show()"
      ],
      "metadata": {
        "colab": {
          "base_uri": "https://localhost:8080/"
        },
        "id": "1pGDCWpLqaTk",
        "outputId": "368c8fe6-8674-4715-b73d-435a3c038bea"
      },
      "execution_count": null,
      "outputs": [
        {
          "output_type": "stream",
          "name": "stdout",
          "text": [
            "+--------------------+------------+------+---+--------+----+-----------+------------+----------------+--------+-------+-------+-----------+--------------+----------+--------+\n",
            "|                 uri|danceability|energy|key|loudness|mode|speechiness|acousticness|instrumentalness|liveness|valence|  tempo|duration_ms|time_signature|chorus_hit|sections|\n",
            "+--------------------+------------+------+---+--------+----+-----------+------------+----------------+--------+-------+-------+-----------+--------------+----------+--------+\n",
            "|spotify:track:02Q...|       0.707| 0.724| 11|  -3.887| 0.0|      0.051|      0.0448|             0.0|   0.072|  0.659|108.984|   250107.0|           4.0|  61.48974|    10.0|\n",
            "|spotify:track:03v...|       0.348| 0.524|  7| -14.179| 1.0|     0.0417|       0.657|         6.72E-5|  0.0931|  0.348| 86.311|   160173.0|           5.0|  84.14468|     5.0|\n",
            "|spotify:track:0Di...|       0.895| 0.491| 10| -10.261| 0.0|      0.246|      0.0144|         9.88E-4|   0.143|  0.249| 83.505|   227727.0|           4.0|  35.25507|    11.0|\n",
            "|spotify:track:0KB...|       0.305| 0.551| 10|  -6.984| 1.0|     0.0423|     0.00382|           0.372|   0.301|  0.105|  99.97|   314760.0|           4.0|  81.47703|     8.0|\n",
            "|spotify:track:0LL...|       0.894| 0.642| 10| -15.886| 0.0|     0.0694|      0.0413|         2.56E-4|  0.0696|  0.912|112.031|   258827.0|           4.0|  52.31244|    11.0|\n",
            "|spotify:track:0Lz...|       0.926| 0.916| 10|  -2.221| 0.0|     0.0929|        0.35|         6.17E-6|  0.0234|  0.904|110.007|   199853.0|           4.0|  38.87837|    10.0|\n",
            "|spotify:track:0XX...|        0.66| 0.768|  9|  -5.731| 1.0|      0.127|       0.189|             0.0|   0.225|  0.737|  138.3|   166573.0|           4.0|  34.08158|    10.0|\n",
            "|spotify:track:0YK...|       0.392|0.0949|  2| -20.899| 1.0|      0.071|       0.993|           0.889|   0.081| 0.0953| 92.004|   397933.0|           4.0|  39.14144|    17.0|\n",
            "|spotify:track:0Ye...|       0.452| 0.773|  6|  -6.794| 0.0|     0.0305|      0.0163|         2.83E-5|   0.466|  0.847|114.285|   237440.0|           4.0|  30.02352|     8.0|\n",
            "|spotify:track:0Zy...|       0.385| 0.114|  7| -21.888| 1.0|     0.0288|       0.828|           0.014|   0.211|  0.243|136.825|   262760.0|           4.0|  34.63443|    15.0|\n",
            "|spotify:track:0cB...|       0.505| 0.171| 10| -15.883| 1.0|     0.0457|        0.88|         4.31E-5|     0.1|  0.512|144.494|   240920.0|           4.0|  22.74719|    12.0|\n",
            "|spotify:track:0cO...|       0.862| 0.873|  1|  -3.522| 1.0|      0.118|       0.196|         9.15E-6|    0.31|  0.861|107.136|   323027.0|           4.0|  20.25681|    14.0|\n",
            "|spotify:track:0cV...|       0.616| 0.728|  9|   -4.02| 0.0|     0.0278|      0.0275|             0.0|   0.228|  0.375|111.934|   219973.0|           4.0|  42.64062|    12.0|\n",
            "|spotify:track:0eq...|       0.291| 0.583|  8| -11.232| 1.0|     0.0815|      0.0451|          0.0661|   0.112|  0.246|129.933|   298697.0|           4.0|  35.06585|    16.0|\n",
            "|spotify:track:0gP...|       0.659| 0.812|  4|  -7.499| 0.0|     0.0487|        0.23|             0.0|  0.0951|  0.888| 83.013|   235133.0|           4.0|  25.46132|    12.0|\n",
            "|spotify:track:0gS...|       0.148|0.0997|  7|  -18.35| 0.0|     0.0426|       0.992|           0.925|   0.106| 0.0563| 98.441|   145442.0|           3.0|  30.81609|     9.0|\n",
            "|spotify:track:0hv...|       0.901| 0.655| 11| -10.085| 0.0|      0.273|     0.00743|         0.00629|   0.173|  0.807| 96.005|   255533.0|           4.0|  20.89968|    14.0|\n",
            "|spotify:track:0kq...|       0.499| 0.437|  7|  -8.884| 0.0|     0.0378|       0.865|             0.0|   0.343|  0.613|120.686|   156440.0|           4.0|  32.01274|     7.0|\n",
            "|spotify:track:0l5...|       0.385|  0.73|  2|   -7.82| 1.0|     0.0409|     0.00382|         0.00278|   0.123|   0.36|134.659|   195867.0|           4.0|  44.23122|     7.0|\n",
            "|spotify:track:0mR...|       0.537| 0.337|  4|  -8.117| 1.0|     0.0728|       0.224|             0.0|   0.107|  0.605|105.367|   266320.0|           4.0|  33.19157|     9.0|\n",
            "+--------------------+------------+------+---+--------+----+-----------+------------+----------------+--------+-------+-------+-----------+--------------+----------+--------+\n",
            "only showing top 20 rows\n",
            "\n"
          ]
        }
      ]
    },
    {
      "cell_type": "code",
      "source": [
        "Characteristics_df.dtypes"
      ],
      "metadata": {
        "colab": {
          "base_uri": "https://localhost:8080/"
        },
        "id": "3Et489ohuryv",
        "outputId": "b3b2b68b-b73b-4770-ffc1-2918ee5d53d8"
      },
      "execution_count": null,
      "outputs": [
        {
          "output_type": "execute_result",
          "data": {
            "text/plain": [
              "[('uri', 'string'),\n",
              " ('danceability', 'string'),\n",
              " ('energy', 'string'),\n",
              " ('key', 'string'),\n",
              " ('loudness', 'string'),\n",
              " ('mode', 'double'),\n",
              " ('speechiness', 'double'),\n",
              " ('acousticness', 'double'),\n",
              " ('instrumentalness', 'double'),\n",
              " ('liveness', 'double'),\n",
              " ('valence', 'double'),\n",
              " ('tempo', 'double'),\n",
              " ('duration_ms', 'double'),\n",
              " ('time_signature', 'double'),\n",
              " ('chorus_hit', 'double'),\n",
              " ('sections', 'double')]"
            ]
          },
          "metadata": {},
          "execution_count": 33
        }
      ]
    },
    {
      "cell_type": "code",
      "source": [
        "Characteristics_df = Characteristics_df.withColumn(\"danceability\",Characteristics_df.danceability.cast('double'))\n",
        "Characteristics_df = Characteristics_df.withColumn(\"energy\",Characteristics_df.energy.cast('double'))\n",
        "Characteristics_df = Characteristics_df.withColumn(\"key\",Characteristics_df.key.cast('double'))\n",
        "Characteristics_df = Characteristics_df.withColumn(\"loudness\",Characteristics_df.loudness.cast('double'))\n",
        "\n",
        "Characteristics_df.dtypes"
      ],
      "metadata": {
        "colab": {
          "base_uri": "https://localhost:8080/"
        },
        "id": "oqd3Pgjeu-nj",
        "outputId": "1d8c9797-3d54-45c6-cef1-320a4e612212"
      },
      "execution_count": null,
      "outputs": [
        {
          "output_type": "execute_result",
          "data": {
            "text/plain": [
              "[('uri', 'string'),\n",
              " ('danceability', 'double'),\n",
              " ('energy', 'double'),\n",
              " ('key', 'double'),\n",
              " ('loudness', 'double'),\n",
              " ('mode', 'double'),\n",
              " ('speechiness', 'double'),\n",
              " ('acousticness', 'double'),\n",
              " ('instrumentalness', 'double'),\n",
              " ('liveness', 'double'),\n",
              " ('valence', 'double'),\n",
              " ('tempo', 'double'),\n",
              " ('duration_ms', 'double'),\n",
              " ('time_signature', 'double'),\n",
              " ('chorus_hit', 'double'),\n",
              " ('sections', 'double')]"
            ]
          },
          "metadata": {},
          "execution_count": 36
        }
      ]
    },
    {
      "cell_type": "code",
      "source": [
        "# Configure settings for RDS\n",
        "mode = \"append\"\n",
        "jdbc_url=\"jdbc:postgresql://spotifyaws.cxmgxnqnrkea.us-east-2.rds.amazonaws.com:5432/spotifydata\"\n",
        "config = {\"user\":\"postgres\", \n",
        "          \"password\": \"$potify!\", \n",
        "          \"driver\":\"org.postgresql.Driver\"}"
      ],
      "metadata": {
        "id": "kmjYXWY5qmnN"
      },
      "execution_count": null,
      "outputs": []
    },
    {
      "cell_type": "code",
      "source": [
        "# Write Info to table in RDS\n",
        "Info_df.write.jdbc(url=jdbc_url, table='Info', mode=mode, properties=config)"
      ],
      "metadata": {
        "id": "TFivL1NyrU2p"
      },
      "execution_count": null,
      "outputs": []
    },
    {
      "cell_type": "code",
      "source": [
        "# Write Info to table in RDS\n",
        "Characteristics_df.write.jdbc(url=jdbc_url, table='characteristics', mode=mode, properties=config)"
      ],
      "metadata": {
        "id": "jqYly2nBtStl"
      },
      "execution_count": null,
      "outputs": []
    }
  ]
}